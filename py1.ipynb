{
  "nbformat": 4,
  "nbformat_minor": 0,
  "metadata": {
    "colab": {
      "name": "py1.ipynb",
      "version": "0.3.2",
      "provenance": [],
      "include_colab_link": true
    },
    "kernelspec": {
      "name": "python3",
      "display_name": "Python 3"
    }
  },
  "cells": [
    {
      "cell_type": "markdown",
      "metadata": {
        "id": "view-in-github",
        "colab_type": "text"
      },
      "source": [
        "<a href=\"https://colab.research.google.com/github/MahreenAthar/My-work/blob/master/py1.ipynb\" target=\"_parent\"><img src=\"https://colab.research.google.com/assets/colab-badge.svg\" alt=\"Open In Colab\"/></a>"
      ]
    },
    {
      "cell_type": "code",
      "metadata": {
        "id": "srJuONF4-ed5",
        "colab_type": "code",
        "outputId": "d9a8f332-0e43-46ef-bc99-8f3d2ac393b9",
        "colab": {
          "base_uri": "https://localhost:8080/",
          "height": 34
        }
      },
      "source": [
        "print(\"Hello world!\")"
      ],
      "execution_count": 0,
      "outputs": [
        {
          "output_type": "stream",
          "text": [
            "Hello world!\n"
          ],
          "name": "stdout"
        }
      ]
    },
    {
      "cell_type": "code",
      "metadata": {
        "id": "kdV9kgIngu_2",
        "colab_type": "code",
        "outputId": "2b78a369-dd0a-424b-da13-3e9bb31b7b7c",
        "colab": {
          "base_uri": "https://localhost:8080/",
          "height": 51
        }
      },
      "source": [
        "from __future__ import division\n",
        "class rect:\n",
        "    def __init__(self):\n",
        "        self.l=5\n",
        "        self.b=8\n",
        "    def area(self):\n",
        "        print('Area of rectangle is: ',self.l*self.b )\n",
        "class triangle(rect):\n",
        "    def __init__(self):\n",
        "        rect.__init__(self)\n",
        "        self.x=17\n",
        "        self.y=13\n",
        "    def area(self):\n",
        "        rect.area(self)\n",
        "        print('Area of the triangle is: ', 1/2*self.x*self.y)\n",
        "r=triangle()\n",
        "r.area()"
      ],
      "execution_count": 0,
      "outputs": [
        {
          "output_type": "stream",
          "text": [
            "Area of rectangle is:  40\n",
            "Area of the triangle is:  110.5\n"
          ],
          "name": "stdout"
        }
      ]
    },
    {
      "cell_type": "code",
      "metadata": {
        "id": "72b9BLzxSIWT",
        "colab_type": "code",
        "outputId": "290d26e5-4e0f-4c85-c452-5fe8bc49aeb5",
        "colab": {
          "base_uri": "https://localhost:8080/",
          "height": 68
        }
      },
      "source": [
        "# The program calculates area of rectangle\n",
        "l= int(input(\"Enter length: \"))\n",
        "b= int(input(\"Enter breadth: \"))\n",
        "a= l*b\n",
        "print (\"Area of rectangle is \", a)"
      ],
      "execution_count": 0,
      "outputs": [
        {
          "output_type": "stream",
          "text": [
            "Enter length: 2\n",
            "Enter breadth: 3\n",
            "Area of rectangle is  6\n"
          ],
          "name": "stdout"
        }
      ]
    },
    {
      "cell_type": "code",
      "metadata": {
        "id": "mhRY_6iahIuz",
        "colab_type": "code",
        "outputId": "e4049fce-58b1-4c0a-b36c-cf3d5c508735",
        "colab": {
          "base_uri": "https://localhost:8080/",
          "height": 170
        }
      },
      "source": [
        "size = int(input(\"Size of the array: \"))  #gives us the size of the array\n",
        "arr = list()\n",
        "print(\"Enter the numbers: \")\n",
        "for i in range(size):         #takes input for the array\n",
        "  n = input()\n",
        "  arr.append(int(n))\n",
        "total = sum(arr)\n",
        "print(\"sum is: \", total)"
      ],
      "execution_count": 13,
      "outputs": [
        {
          "output_type": "stream",
          "text": [
            "Size of the array: 6\n",
            "Enter the numbers: \n",
            "1\n",
            "2\n",
            "3\n",
            "4\n",
            "10\n",
            "11\n",
            "sum is:  31\n"
          ],
          "name": "stdout"
        }
      ]
    }
  ]
}